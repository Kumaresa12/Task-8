{
  "nbformat": 4,
  "nbformat_minor": 0,
  "metadata": {
    "colab": {
      "provenance": []
    },
    "kernelspec": {
      "name": "python3",
      "display_name": "Python 3"
    },
    "language_info": {
      "name": "python"
    }
  },
  "cells": [
    {
      "cell_type": "code",
      "execution_count": null,
      "metadata": {
        "id": "yE3ziERuwFWh"
      },
      "outputs": [],
      "source": [
        "from tkinter import *\n",
        "from textblob import TextBlob\n",
        "\n",
        "def check_spelling():\n",
        "    a=TextBlob(spell_check.get())\n",
        "    spell=Label(window,text=\"The Correct Spelling is:\",font=('Arial',30,\"bold\"),bg=\"lightblue\")\n",
        "    spell.pack()\n",
        "    correct_text=Label(window,text=str(a.correct()),font=(\"Arial\",40,\"bold\"),bg=\"lightpink\")\n",
        "    correct_text.pack()\n",
        "\n",
        "\n",
        "window=Tk()\n",
        "window.title(\"My Spelling Checker\")\n",
        "window.geometry(\"800x600\")\n",
        "\n",
        "window.config(background=\"green\")\n",
        "text_heading=Label(window,text=\"Spelling Check\",font=(\"Times new roman\",50,'bold'),bg=\"black\",fg=\"White\")\n",
        "text_heading.pack()\n",
        "\n",
        "text_check=Label(window, text=\"Enter the Text\",font=(\"Arial\",30,\"bold\"),bg=\"yellow\",fg=\"black\")\n",
        "text_check.pack()\n",
        "\n",
        "spell_check=Entry(window, font=(\"Arial\",45,\"bold\"),width=500,bg=\"lightpink\")\n",
        "spell_check.pack()\n",
        "\n",
        "check_button=Button(window,text=\"check !!\",font=(\"Arial\",30,\"bold\"),fg='blue',bg='yellow',command=check_spelling)\n",
        "check_button.pack()\n",
        "window.mainloop()"
      ]
    }
  ]
}